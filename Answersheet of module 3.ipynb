{
 "cells": [
  {
   "cell_type": "markdown",
   "id": "6c5b6a6c-c8b0-4d6c-84d1-cb5171f00a43",
   "metadata": {},
   "source": [
    "# Theoretical Problems"
   ]
  },
  {
   "cell_type": "markdown",
   "id": "67ac8862-ad24-4d4d-b9dd-4ad88348ca81",
   "metadata": {},
   "source": [
    "# 1. What are data structures, and why are they important?\n",
    "  - Data structures are specialized formats for organizing, storing, and manipulating data to ensure efficient access and processing.\n",
    "They are important because they allow programs to perform operations on data quickly, consume less memory, and simplify complex tasks."
   ]
  },
  {
   "cell_type": "markdown",
   "id": "adeba7f4-2bae-4fc1-b53b-8871a0d704b5",
   "metadata": {},
   "source": [
    "# 2. Explain the difference between mutable and immutable data types with examples.\n",
    "  - The difference between mutable and immutable data types lies in whether their state can be changed after they are created.\n",
    "  - mutable data types:\n",
    "    -  Mutable data types are those whose values or contents can be modified in place after they have been initialized.\n",
    "    -  for example:\n",
    "    -   Lists, Dictionaries, Sets.\n",
    "  - Immutable data types:\n",
    "    - Immutable data types are those whose values or contents cannot be altered after they have been created.\n",
    "    - for example:\n",
    "    -  Integers, Floats, Strings, Tuples."
   ]
  },
  {
   "cell_type": "markdown",
   "id": "1034d1f9-f8e5-4b8e-9029-bb382bdbc8e5",
   "metadata": {},
   "source": [
    "# 3. What are the main differences between lists and tuples in Python?\n",
    "  - The differences between lists and tuples are their mutability, performance characteristics, and typical use cases.\n",
    "    -  List are mutable means their elements can be changed even after the list is created. We can add, remove, change the elements.\n",
    "    - TUples are immutable means their elements cannot be changed once tuple is created."
   ]
  },
  {
   "cell_type": "markdown",
   "id": "5449680d-91b1-4ff1-9e7b-2ac815eaa52f",
   "metadata": {},
   "source": [
    "# 4.  Describe how dictionaries store data.\n",
    "  - Dictionary stores data in form of key and value pairs. Where keys are unique element but values can be duplicated."
   ]
  },
  {
   "cell_type": "markdown",
   "id": "f2af5b02-9e2b-4b22-a2a1-fb2c150897b7",
   "metadata": {},
   "source": [
    "# 5. Why might you use a set instead of a list in Python?\n",
    "  - Using set instead of list because it contains unique unorderd elements. And ease to use operators in sets  like union, difference, intersection, symmetric difference."
   ]
  },
  {
   "cell_type": "markdown",
   "id": "70075a97-507a-4198-9e2b-60ba1c93ca2f",
   "metadata": {},
   "source": [
    "# 6. What is a string in Python, and how is it different from a list?\n",
    "  - A string is an immutable sequence of characters, used to represent text data. It is used by ' ' single quote, \" \" double quote, and their is a multiline string which is denoted by ''' ''' triple quote. Where as list is a mutable, ordered sequence of items. Lists can contain items of different data types.\n",
    "     - for example:\n",
    "        - numbers, strings, or even other lists."
   ]
  },
  {
   "cell_type": "markdown",
   "id": "8fd165a0-9355-4d86-9b4a-953356a01701",
   "metadata": {},
   "source": [
    "# 7. How do tuples ensure data integrity in Python?\n",
    "  - Tuples in Python ensure data integrity primarily through their immutability. This means that once a tuple is created, its elements cannot be modified, added, or removed. "
   ]
  },
  {
   "cell_type": "markdown",
   "id": "5291311f-f7bb-4eee-ab15-0febe568b0fa",
   "metadata": {},
   "source": [
    "# 8. What is a hash table, and how does it relate to dictionaries in Python?\n",
    "  - A hash table is a data structure that implements an associative array, also known as a dictionary or map. It stores data in key-value pairs, where each key is mapped to a specific memory location (or index in an array) using a hash function."
   ]
  },
  {
   "cell_type": "markdown",
   "id": "fb96bcde-ea56-4c47-8cb2-40b18a80f83c",
   "metadata": {},
   "source": [
    "# 9. Can lists contain different data types in Python?\n",
    "  - Yes, lists in Python can contain different data types. This is a key feature of lists, making them highly versatile for storing collections of diverse data."
   ]
  },
  {
   "cell_type": "markdown",
   "id": "25616055-9c66-402f-9ab1-d96471522dba",
   "metadata": {},
   "source": [
    "# 10. Explain why strings are immutable in Python.\n",
    "  - Strings are immutable in Python because their content cannot be changed after creation. This make it memory efficient."
   ]
  },
  {
   "cell_type": "markdown",
   "id": "30b54222-196e-45c5-bcae-5de14f3c75e6",
   "metadata": {},
   "source": [
    "# 11. What advantages do dictionaries offer over lists for certain tasks?\n",
    "  - Dictionaries offer faster retrieval of specific items and more flexible data organization than lists by using unique keys to access values, which is ideal for looking up data by a known identifier, like a name or ID. While lists are best for ordered, sequential collections."
   ]
  },
  {
   "cell_type": "markdown",
   "id": "d850a96a-b0c7-4a90-944d-ef52b233ae61",
   "metadata": {},
   "source": [
    "# 12. Describe a scenario where using a tuple would be preferable over a list.\n",
    "  - A tuple would be preferable over a list is when representing data that should remain constant and unchanged throughout the program's execution. While a list could technically store data but the immutability of a tuple aligns better with the inherent nature of fixed data."
   ]
  },
  {
   "cell_type": "markdown",
   "id": "eb5b6879-18ae-43ad-aa64-33287cc05907",
   "metadata": {},
   "source": [
    "# 13. How do sets handle duplicate values in Python?\n",
    "  - Objects in sets are inherently designed to store only unique elements. They do not allow duplicate values. When you attempt to add a duplicate value to a set, the set simply ignores the addition; it does not raise an error, nor does it store the duplicate. The element already present in the set remains, and the new, identical element is not added."
   ]
  },
  {
   "cell_type": "markdown",
   "id": "8303fd16-7ad5-4c66-bdd4-84c14bb5c326",
   "metadata": {},
   "source": [
    "# 14. How does the “in” keyword work differently for lists and dictionaries?\n",
    "  - The 'in' keyword in Python functions differently when used with lists and dictionaries due to their underlying data structures and how they store and retrieve data.\n",
    "In lists When in is used with a list, it checks for the presence of a specific element within the list.\n",
    "  - whereas, when 'in' is used with a dictionary, it checks for the presence of a specific key within the dictionary. It does not directly check for values."
   ]
  },
  {
   "cell_type": "markdown",
   "id": "b9c50667-833f-4335-88b6-217233b6e294",
   "metadata": {},
   "source": [
    "# 15. Can you modify the elements of a tuple? Explain why or why not.\n",
    "  - No, the elements of a tuple cannot be modified after the tuple has been created. This is because tuples are immutable data structures in Python. and we earlier discussed that immutablity means that we can not add, remove, or change an element once a tuple is created."
   ]
  },
  {
   "cell_type": "markdown",
   "id": "801899d1-fcfb-4aa2-8a10-dd3ec7381c4b",
   "metadata": {},
   "source": [
    "# 16. What is a nested dictionary, and give an example of its use case.\n",
    "  - A nested dictionary is a dictionary where the values associated with some keys are themselves other dictionaries. This structure allows for the representation of complex data.\n",
    "    - A common use case for nested dictionaries is representing data with multiple levels of detail, such as an employee database or a catalog of products."
   ]
  },
  {
   "cell_type": "raw",
   "id": "e00b802f-10eb-43bd-97ae-ee67af7cb832",
   "metadata": {},
   "source": [
    "employees = {\n",
    "    \"employee_id_1\": {\n",
    "        \"name\": \"Alice Smith\",\n",
    "        \"age\": 30,\n",
    "        \"department\": {\n",
    "            \"name\": \"Human Resources\",\n",
    "            \"manager\": \"Bob Johnson\"\n",
    "        }\n",
    "    },\n",
    "    \"employee_id_2\": {\n",
    "        \"name\": \"Charlie Brown\",\n",
    "        \"age\": 25,\n",
    "        \"department\": {\n",
    "            \"name\": \"Engineering\",\n",
    "            \"manager\": \"Diana Prince\"\n",
    "        }\n",
    "    }\n",
    "}\n",
    "\n",
    "# Accessing information:\n",
    "print(employees[\"employee_id_1\"][\"name\"])  # Output: Alice Smith\n",
    "print(employees[\"employee_id_2\"][\"department\"][\"manager\"]) # Output: Diana Prince"
   ]
  },
  {
   "cell_type": "markdown",
   "id": "278cc2e8-fa81-4817-8d39-9865656f0cee",
   "metadata": {},
   "source": [
    "# 17. Describe the time complexity of accessing elements in a dictionary.\n",
    "  - Accessing elements in a dictionary, or hash map, generally has an average time complexity of O(1), which stands for constant time. This means that, on average, the time it takes to retrieve a value using its key does not significantly increase with the size of the dictionary."
   ]
  },
  {
   "cell_type": "markdown",
   "id": "2550fd37-763d-495b-8f29-7906b44062b8",
   "metadata": {},
   "source": [
    "# 18. In what situations are lists preferred over dictionaries.\n",
    "  - Lists are preferred over dictionaries when the order of elements matters, such as for maintaining a sequence, a stack, or a queue. Lists are also suitable for simple, sequential collections of data."
   ]
  },
  {
   "cell_type": "markdown",
   "id": "b197a93d-75dc-4224-8566-eab1510089e2",
   "metadata": {},
   "source": [
    "# 19. Why are dictionaries considered unordered, and how does that affect data retrieval?\n",
    "  - Dictionaries are considered \"unordered\" because they do not guarantee a specific, predictable sequence for their elements, and instead, they are optimized for fast retrieval of values based on their associated keys, not their position. This means that data retrieval relies entirely on key-based access; you must know the key to find its value."
   ]
  },
  {
   "cell_type": "markdown",
   "id": "9926b5ba-7312-4dcb-acd5-cdc89ef40f53",
   "metadata": {},
   "source": [
    "# 20. Explain the difference between a list and a dictionary in terms of data retrieval.\n",
    "  - The difference between a list and a dictionary, in terms of data retrieval, lies in their underlying organization and the method used to locate elements:\n",
    "     - In lists:\n",
    "       - Lists are ordered collections where elements are stored in a specific sequence.Data retrieval relies on integer-based indexing, starting from 0 for the first element.To access an element, its numerical position (index) within the list is specified.\n",
    "     - In dictionary:\n",
    "       - Dictionaries are unordered collections of key-value pairs, where each unique key maps to a specific value.Data retrieval relies on key-based lookup.To access a value, its associated unique key is provided."
   ]
  },
  {
   "cell_type": "markdown",
   "id": "9f22de7e-bebd-4004-8d27-0847201ecbcb",
   "metadata": {},
   "source": [
    "# Practicle Questions."
   ]
  },
  {
   "cell_type": "markdown",
   "id": "ab013efb-9d7e-4bc7-8ba8-c9ef8c757403",
   "metadata": {},
   "source": [
    "# 1. Write a code to create a string with your name and print it."
   ]
  },
  {
   "cell_type": "code",
   "execution_count": 3,
   "id": "b5a50a10-98b9-483b-b58f-fe5b6c08e0f9",
   "metadata": {},
   "outputs": [
    {
     "data": {
      "text/plain": [
       "str"
      ]
     },
     "execution_count": 3,
     "metadata": {},
     "output_type": "execute_result"
    }
   ],
   "source": [
    "name = \"Ashish Jadiya\"\n",
    "type(name)"
   ]
  },
  {
   "cell_type": "markdown",
   "id": "03ecc752-527f-4535-b794-c3051a21b491",
   "metadata": {},
   "source": [
    "# 2. Write a code to find the length of the string \"Hello World\"?"
   ]
  },
  {
   "cell_type": "code",
   "execution_count": 4,
   "id": "ee723dbe-4521-4796-a53a-1f8eeaa08653",
   "metadata": {},
   "outputs": [
    {
     "data": {
      "text/plain": [
       "11"
      ]
     },
     "execution_count": 4,
     "metadata": {},
     "output_type": "execute_result"
    }
   ],
   "source": [
    "str1 = \"Hello World\"\n",
    "len(str1)"
   ]
  },
  {
   "cell_type": "markdown",
   "id": "5af8c39c-cb46-4953-9ea6-a623b9b79d14",
   "metadata": {},
   "source": [
    "# 3. Write a code to slice the first 3 characters from the string \"Python Programming\"."
   ]
  },
  {
   "cell_type": "code",
   "execution_count": 5,
   "id": "5919c767-697f-465c-9ffa-dded1f1d7d1c",
   "metadata": {},
   "outputs": [
    {
     "data": {
      "text/plain": [
       "'Pyt'"
      ]
     },
     "execution_count": 5,
     "metadata": {},
     "output_type": "execute_result"
    }
   ],
   "source": [
    "name = \"Python Programming\"\n",
    "name[0:3]"
   ]
  },
  {
   "cell_type": "markdown",
   "id": "cd35b2e3-a34e-4ca6-a5c2-51b37d1c6823",
   "metadata": {},
   "source": [
    "# 4. Write a code to convert the string \"hello\" to uppercase."
   ]
  },
  {
   "cell_type": "code",
   "execution_count": 6,
   "id": "8bb10d14-9134-4be4-aa95-e55380c6864f",
   "metadata": {},
   "outputs": [
    {
     "data": {
      "text/plain": [
       "'HELLO'"
      ]
     },
     "execution_count": 6,
     "metadata": {},
     "output_type": "execute_result"
    }
   ],
   "source": [
    "name = \"hello\"\n",
    "name.upper()"
   ]
  },
  {
   "cell_type": "markdown",
   "id": "42a90a24-d912-4060-b4a6-52d8ea457995",
   "metadata": {},
   "source": [
    "# 5. Write a code to replace the word \"apple\" with \"orange\" in the string \"I like apple\"."
   ]
  },
  {
   "cell_type": "code",
   "execution_count": 8,
   "id": "7c841e61-c594-4c4e-89a5-d3e7d171e7e7",
   "metadata": {},
   "outputs": [
    {
     "data": {
      "text/plain": [
       "'I like orange'"
      ]
     },
     "execution_count": 8,
     "metadata": {},
     "output_type": "execute_result"
    }
   ],
   "source": [
    "name = \"I like apple\"\n",
    "name.replace(\"apple\", \"orange\")"
   ]
  },
  {
   "cell_type": "markdown",
   "id": "da3a4526-45bf-4717-a942-8d9752cf6bac",
   "metadata": {},
   "source": [
    "# 6. Write a code to create a list with numbers 1 to 5 and print it."
   ]
  },
  {
   "cell_type": "code",
   "execution_count": 9,
   "id": "d62887cd-ab98-4a94-9200-baeccb947814",
   "metadata": {},
   "outputs": [
    {
     "data": {
      "text/plain": [
       "[1, 2, 3, 4, 5]"
      ]
     },
     "execution_count": 9,
     "metadata": {},
     "output_type": "execute_result"
    }
   ],
   "source": [
    "l1 = [1, 2, 3, 4, 5]\n",
    "l1"
   ]
  },
  {
   "cell_type": "markdown",
   "id": "04b8c537-b532-4f80-9724-bc853fecd96e",
   "metadata": {},
   "source": [
    "# 7. Write a code to append the number 10 to the list [1, 2, 3, 4]."
   ]
  },
  {
   "cell_type": "code",
   "execution_count": 11,
   "id": "04050f65-7344-410e-bfd7-a9b5f1a140f2",
   "metadata": {},
   "outputs": [
    {
     "data": {
      "text/plain": [
       "[1, 2, 3, 4, 10]"
      ]
     },
     "execution_count": 11,
     "metadata": {},
     "output_type": "execute_result"
    }
   ],
   "source": [
    "num_list = [1, 2, 3, 4]\n",
    "num_list.append(10)\n",
    "num_list"
   ]
  },
  {
   "cell_type": "markdown",
   "id": "3a4139bb-4bb1-44f2-b35f-d4918e272072",
   "metadata": {},
   "source": [
    "# 8. Write a code to remove the number 3 from the list [1, 2, 3, 4, 5]."
   ]
  },
  {
   "cell_type": "code",
   "execution_count": 12,
   "id": "40e905b8-6183-4b6f-adba-9641998adc8c",
   "metadata": {},
   "outputs": [
    {
     "data": {
      "text/plain": [
       "[1, 2, 4, 5]"
      ]
     },
     "execution_count": 12,
     "metadata": {},
     "output_type": "execute_result"
    }
   ],
   "source": [
    "num_list = [1, 2, 3, 4, 5]\n",
    "num_list.remove(3)\n",
    "num_list"
   ]
  },
  {
   "cell_type": "markdown",
   "id": "7ca28ada-52aa-470f-9c04-f1ad3f0239db",
   "metadata": {},
   "source": [
    "# 9. Write a code to access the second element in the list ['a', 'b', 'c', 'd']."
   ]
  },
  {
   "cell_type": "code",
   "execution_count": 13,
   "id": "b5ebe545-4973-42b9-98e1-414b076c4142",
   "metadata": {},
   "outputs": [
    {
     "data": {
      "text/plain": [
       "'b'"
      ]
     },
     "execution_count": 13,
     "metadata": {},
     "output_type": "execute_result"
    }
   ],
   "source": [
    "num_list = [\"a\", \"b\", \"c\", \"d\"]\n",
    "num_list[1]"
   ]
  },
  {
   "cell_type": "markdown",
   "id": "f6f262e0-e7c5-4c6a-984f-e5a184941972",
   "metadata": {},
   "source": [
    "# 10. Write a code to reverse the list [10, 20, 30, 40, 50]."
   ]
  },
  {
   "cell_type": "code",
   "execution_count": 14,
   "id": "4e90ce54-a90d-4e12-92a2-66a05f993ce2",
   "metadata": {},
   "outputs": [
    {
     "data": {
      "text/plain": [
       "[50, 40, 30, 20, 10]"
      ]
     },
     "execution_count": 14,
     "metadata": {},
     "output_type": "execute_result"
    }
   ],
   "source": [
    "num_list = [10, 20, 30, 40, 50]\n",
    "num_list.reverse()\n",
    "num_list"
   ]
  },
  {
   "cell_type": "markdown",
   "id": "d76e4249-7cca-449c-bf70-04654f947230",
   "metadata": {},
   "source": [
    "# 11. Write a code to create a tuple with the elements 100, 200, 300 and print it."
   ]
  },
  {
   "cell_type": "code",
   "execution_count": 15,
   "id": "b1271940-5d91-436b-b3af-b328731a3476",
   "metadata": {},
   "outputs": [
    {
     "data": {
      "text/plain": [
       "tuple"
      ]
     },
     "execution_count": 15,
     "metadata": {},
     "output_type": "execute_result"
    }
   ],
   "source": [
    "tup = (100, 200, 300)\n",
    "type(tup)"
   ]
  },
  {
   "cell_type": "markdown",
   "id": "487773a3-5e70-4b37-8dd7-7a956b72977f",
   "metadata": {},
   "source": [
    "# 12.  Write a code to access the second-to-last element of the tuple ('red', 'green', 'blue', 'yellow')."
   ]
  },
  {
   "cell_type": "code",
   "execution_count": 16,
   "id": "4ef3ab72-7e64-4309-9756-c43f742387e9",
   "metadata": {},
   "outputs": [
    {
     "data": {
      "text/plain": [
       "('Green', 'Blue', 'Yellow')"
      ]
     },
     "execution_count": 16,
     "metadata": {},
     "output_type": "execute_result"
    }
   ],
   "source": [
    "tup = (\"Red\", \"Green\", \"Blue\", \"Yellow\")\n",
    "tup[1:4]"
   ]
  },
  {
   "cell_type": "markdown",
   "id": "326c400e-c54b-4f59-a071-11b1beafa5e1",
   "metadata": {},
   "source": [
    "# 13. Write a code to find the minimum number in the tuple (10, 20, 5, 15)."
   ]
  },
  {
   "cell_type": "code",
   "execution_count": 17,
   "id": "e665769e-518c-4397-9288-e305b2a9e5b9",
   "metadata": {},
   "outputs": [
    {
     "data": {
      "text/plain": [
       "5"
      ]
     },
     "execution_count": 17,
     "metadata": {},
     "output_type": "execute_result"
    }
   ],
   "source": [
    "tup = (10, 20, 5, 15)\n",
    "min_value = min(tup)\n",
    "min_value"
   ]
  },
  {
   "cell_type": "markdown",
   "id": "a876cd4b-4a51-48b2-8b21-961150df1d48",
   "metadata": {},
   "source": [
    "# 14. Write a code to find the index of the element \"cat\" in the tuple ('dog', 'cat', 'rabbit')."
   ]
  },
  {
   "cell_type": "code",
   "execution_count": 18,
   "id": "0e386cb2-3410-4b68-ad57-4392aa1d74b8",
   "metadata": {},
   "outputs": [
    {
     "data": {
      "text/plain": [
       "1"
      ]
     },
     "execution_count": 18,
     "metadata": {},
     "output_type": "execute_result"
    }
   ],
   "source": [
    "tup = (\"dog\", \"cat\", \"rabbit\")\n",
    "tup.index(\"cat\")"
   ]
  },
  {
   "cell_type": "markdown",
   "id": "1162ac6d-afc7-46d6-b3a4-657f229e3647",
   "metadata": {},
   "source": [
    "# 15.  Write a code to create a tuple containing three different fruits and check if \"kiwi\" is in it."
   ]
  },
  {
   "cell_type": "code",
   "execution_count": 19,
   "id": "01fd4551-10cc-48d4-b5f6-3c9f4ff15955",
   "metadata": {},
   "outputs": [
    {
     "name": "stdout",
     "output_type": "stream",
     "text": [
      "Kiwi is not in the tuple.\n"
     ]
    }
   ],
   "source": [
    "fruits = (\"apple\", \"banana\", \"orange\")\n",
    "\n",
    "if \"kiwi\" in fruits:\n",
    "    print(\"Kiwi is in the tuple.\")\n",
    "else:\n",
    "    print(\"Kiwi is not in the tuple.\")"
   ]
  },
  {
   "cell_type": "markdown",
   "id": "5012f257-c12d-4217-9885-8d926af6acbe",
   "metadata": {},
   "source": [
    "# 16. Write a code to create a set with the elements 'a', 'b', 'c' and print it."
   ]
  },
  {
   "cell_type": "code",
   "execution_count": 21,
   "id": "13eb5dc9-8b19-457d-bbef-2948389b3180",
   "metadata": {},
   "outputs": [
    {
     "data": {
      "text/plain": [
       "set"
      ]
     },
     "execution_count": 21,
     "metadata": {},
     "output_type": "execute_result"
    }
   ],
   "source": [
    "num = \"a\", \"b\", \"c\"\n",
    "s = set(num)\n",
    "s\n",
    "type(s)"
   ]
  },
  {
   "cell_type": "markdown",
   "id": "e4437742-a721-4dcb-9ea0-ed320f33ae47",
   "metadata": {},
   "source": [
    "# 17.  Write a code to clear all elements from the set {1, 2, 3, 4, 5}."
   ]
  },
  {
   "cell_type": "code",
   "execution_count": 22,
   "id": "dd075a87-d120-4195-a6f6-947d1378d266",
   "metadata": {},
   "outputs": [
    {
     "data": {
      "text/plain": [
       "set()"
      ]
     },
     "execution_count": 22,
     "metadata": {},
     "output_type": "execute_result"
    }
   ],
   "source": [
    "my_set = {1, 2, 3, 4, 5}\n",
    "my_set.clear()\n",
    "my_set"
   ]
  },
  {
   "cell_type": "markdown",
   "id": "a256ad95-a398-4a88-9956-03c1b8de533c",
   "metadata": {},
   "source": [
    "# 18.  Write a code to remove the element 4 from the set {1, 2, 3, 4}."
   ]
  },
  {
   "cell_type": "code",
   "execution_count": 23,
   "id": "be46dcbc-30d3-4c94-93a4-cbc50afc9dd2",
   "metadata": {},
   "outputs": [
    {
     "data": {
      "text/plain": [
       "{1, 2, 3}"
      ]
     },
     "execution_count": 23,
     "metadata": {},
     "output_type": "execute_result"
    }
   ],
   "source": [
    "s = {1, 2, 3, 4}\n",
    "s.remove(4)\n",
    "s"
   ]
  },
  {
   "cell_type": "markdown",
   "id": "808fbcff-9675-4777-9d54-5a709a7f64d0",
   "metadata": {},
   "source": [
    "# 19. Write a code to find the union of two sets {1, 2, 3} and {3, 4, 5}."
   ]
  },
  {
   "cell_type": "code",
   "execution_count": 24,
   "id": "ced5dfa7-c8df-42f9-a5f6-cc02880ee907",
   "metadata": {},
   "outputs": [
    {
     "data": {
      "text/plain": [
       "{1, 2, 3, 4, 5}"
      ]
     },
     "execution_count": 24,
     "metadata": {},
     "output_type": "execute_result"
    }
   ],
   "source": [
    "s1 = {1, 2, 3}\n",
    "s2 = {3, 4, 5}\n",
    "my_set = s1|s2\n",
    "my_set"
   ]
  },
  {
   "cell_type": "markdown",
   "id": "c33154d8-5b99-4685-adb2-9b37c70a2032",
   "metadata": {},
   "source": [
    "# 20. Write a code to find the intersection of two sets {1, 2, 3} and {2, 3, 4}."
   ]
  },
  {
   "cell_type": "code",
   "execution_count": 25,
   "id": "61ed58ce-0153-4873-8d7f-466e8edd1cf8",
   "metadata": {},
   "outputs": [
    {
     "data": {
      "text/plain": [
       "{2, 3}"
      ]
     },
     "execution_count": 25,
     "metadata": {},
     "output_type": "execute_result"
    }
   ],
   "source": [
    "s1 = {1, 2, 3}\n",
    "s2 = {2, 3, 4}\n",
    "my_set = s1&s2\n",
    "my_set"
   ]
  },
  {
   "cell_type": "markdown",
   "id": "df6e7e23-d789-45bc-a619-5dbf819ad77a",
   "metadata": {},
   "source": [
    "# 21.  Write a code to create a dictionary with the keys \"name\", \"age\", and \"city\", and print it."
   ]
  },
  {
   "cell_type": "code",
   "execution_count": 27,
   "id": "bd3287cb-2df7-4c25-8ca2-8a68d6cc220e",
   "metadata": {},
   "outputs": [
    {
     "data": {
      "text/plain": [
       "dict"
      ]
     },
     "execution_count": 27,
     "metadata": {},
     "output_type": "execute_result"
    }
   ],
   "source": [
    "my_dict = { \"name\": \"Ashish\", \"age\": 27 , \"city\": \"Bhopal\" }\n",
    "type(my_dict)"
   ]
  },
  {
   "cell_type": "markdown",
   "id": "1b622382-7c18-4624-8b3b-2ecc930ffcde",
   "metadata": {},
   "source": [
    "# 22. Write a code to add a new key-value pair \"country\": \"USA\" to the dictionary {'name': 'John', 'age': 25}."
   ]
  },
  {
   "cell_type": "code",
   "execution_count": 30,
   "id": "9548c30e-1efb-4bab-9a60-ecb38416bdd0",
   "metadata": {},
   "outputs": [
    {
     "data": {
      "text/plain": [
       "{'name': 'John', 'age': 25, 'Country': 'USA'}"
      ]
     },
     "execution_count": 30,
     "metadata": {},
     "output_type": "execute_result"
    }
   ],
   "source": [
    "my_dict =  {'name': 'John', 'age': 25}\n",
    "my_dict[\"Country\"] = \"USA\"\n",
    "my_dict"
   ]
  },
  {
   "cell_type": "markdown",
   "id": "bf936f9b-b9f7-4f02-890f-dd7548fa0409",
   "metadata": {},
   "source": [
    "# 23.  Write a code to access the value associated with the key \"name\" in the dictionary {'name': 'Alice', 'age': 30}."
   ]
  },
  {
   "cell_type": "code",
   "execution_count": 31,
   "id": "0a1dec05-bdb2-433c-adf9-0135787049ac",
   "metadata": {},
   "outputs": [
    {
     "data": {
      "text/plain": [
       "'Alice'"
      ]
     },
     "execution_count": 31,
     "metadata": {},
     "output_type": "execute_result"
    }
   ],
   "source": [
    "my_dict = {'name': 'Alice', 'age': 30}\n",
    "my_dict[\"name\"]"
   ]
  },
  {
   "cell_type": "markdown",
   "id": "286f1f0d-84f7-41f0-a256-051212f3c1b0",
   "metadata": {},
   "source": [
    "# 24.  Write a code to remove the key \"age\" from the dictionary {'name': 'Bob', 'age': 22, 'city': 'New York'}."
   ]
  },
  {
   "cell_type": "code",
   "execution_count": 32,
   "id": "a8eca7ff-4635-47d7-8b9f-3a812986f9b2",
   "metadata": {},
   "outputs": [
    {
     "data": {
      "text/plain": [
       "{'name': 'Bob', 'city': 'New York'}"
      ]
     },
     "execution_count": 32,
     "metadata": {},
     "output_type": "execute_result"
    }
   ],
   "source": [
    "my_dict = {'name': 'Bob', 'age': 22, 'city': 'New York'}\n",
    "my_dict.pop(\"age\")\n",
    "my_dict"
   ]
  },
  {
   "cell_type": "markdown",
   "id": "88750a01-26ef-4d8d-95be-2742a8cf4c0c",
   "metadata": {},
   "source": [
    "# 25. Write a code to check if the key \"city\" exists in the dictionary {'name': 'Alice', 'city': 'Paris'}."
   ]
  },
  {
   "cell_type": "code",
   "execution_count": 33,
   "id": "d4886830-5d90-4866-a6fc-42797f385226",
   "metadata": {},
   "outputs": [
    {
     "name": "stdout",
     "output_type": "stream",
     "text": [
      "Key 'city' exists in the dictionary.\n"
     ]
    }
   ],
   "source": [
    "my_dict = {'name': 'Alice', 'city': 'Paris'}\n",
    "\n",
    "if \"city\" in my_dict:\n",
    "    print(\"Key 'city' exists in the dictionary.\")\n",
    "else:\n",
    "    print(\"Key 'city' does not exist in the dictionary.\")"
   ]
  },
  {
   "cell_type": "markdown",
   "id": "799d063f-57e1-40da-b255-ac4754fa640a",
   "metadata": {},
   "source": [
    "# 26.  Write a code to create a list, a tuple, and a dictionary, and print them all."
   ]
  },
  {
   "cell_type": "code",
   "execution_count": 34,
   "id": "46f839cc-d4d0-4365-be79-c9aaf168bfcd",
   "metadata": {},
   "outputs": [
    {
     "name": "stdout",
     "output_type": "stream",
     "text": [
      "{'name': 'Alice', 'age': 25, 'city': 'Paris'}\n",
      "[1, 2, 3, 4, 5]\n",
      "('apple', 'banana', 'cherry')\n"
     ]
    }
   ],
   "source": [
    "my_list = [1, 2, 3, 4, 5]\n",
    "\n",
    "my_tuple = (\"apple\", \"banana\", \"cherry\")\n",
    "\n",
    "my_dict = {\"name\": \"Alice\", \"age\": 25, \"city\": \"Paris\"}\n",
    "\n",
    "print(my_dict)\n",
    "print(my_list)\n",
    "print(my_tuple)"
   ]
  },
  {
   "cell_type": "markdown",
   "id": "abb6efa6-b31e-433f-b146-11cf6cd75097",
   "metadata": {},
   "source": [
    "# 27. Write a code to create a list of 5 random numbers between 1 and 100, sort it in ascending order, and print the result.(replaced)"
   ]
  },
  {
   "cell_type": "code",
   "execution_count": 35,
   "id": "cc43e504-70d2-46cf-9670-f1139cb260cc",
   "metadata": {},
   "outputs": [
    {
     "data": {
      "text/plain": [
       "[1, 34, 45, 86, 98]"
      ]
     },
     "execution_count": 35,
     "metadata": {},
     "output_type": "execute_result"
    }
   ],
   "source": [
    "my_list = [1, 34, 45, 86, 98]\n",
    "my_list.sort()\n",
    "my_list"
   ]
  },
  {
   "cell_type": "markdown",
   "id": "3459b9a9-4907-4e97-b095-8af05ebdba71",
   "metadata": {},
   "source": [
    "# 28.  Write a code to create a list with strings and print the element at the third index."
   ]
  },
  {
   "cell_type": "code",
   "execution_count": 36,
   "id": "4248e5ca-40e7-434d-843c-ddfdd680826c",
   "metadata": {},
   "outputs": [
    {
     "data": {
      "text/plain": [
       "'mango'"
      ]
     },
     "execution_count": 36,
     "metadata": {},
     "output_type": "execute_result"
    }
   ],
   "source": [
    "my_list = [\"apple\", \"banana\", \"cherry\", \"mango\", \"orange\"]\n",
    "my_list[3]"
   ]
  },
  {
   "cell_type": "markdown",
   "id": "32557c46-9128-435b-83f2-d9b696f2c6a6",
   "metadata": {},
   "source": [
    "# 29.  Write a code to combine two dictionaries into one and print the result."
   ]
  },
  {
   "cell_type": "code",
   "execution_count": 37,
   "id": "20e7f5ec-6c2f-4951-be46-14f974d93621",
   "metadata": {},
   "outputs": [
    {
     "data": {
      "text/plain": [
       "{'name': 'Ashish', 'Age': 27, 'State': 'Madhya pradesh', 'City': 'Bhopal'}"
      ]
     },
     "execution_count": 37,
     "metadata": {},
     "output_type": "execute_result"
    }
   ],
   "source": [
    "dict1 = {\"name\": \"Ashish\", \"Age\": 27}\n",
    "dict2 = {\"State\": \"Madhya pradesh\", \"City\": \"Bhopal\"}\n",
    "my_dict = dict1|dict2\n",
    "my_dict"
   ]
  },
  {
   "cell_type": "markdown",
   "id": "6935d52a-1b7a-4717-935b-9c728b40ed67",
   "metadata": {},
   "source": [
    "# 30.  Write a code to convert a list of strings into a set."
   ]
  },
  {
   "cell_type": "code",
   "execution_count": null,
   "id": "ad5cfe27-9db4-498b-86f4-aeb1b35098f5",
   "metadata": {},
   "outputs": [],
   "source": [
    "my_list = [\"Apple\", \"Banana\", \"Papaya\", \"Strawberry\", \"Cherry\"]\n",
    "my_set = set(my_list)\n",
    "\n",
    "my_set"
   ]
  }
 ],
 "metadata": {
  "kernelspec": {
   "display_name": "Python [conda env:base] *",
   "language": "python",
   "name": "conda-base-py"
  },
  "language_info": {
   "codemirror_mode": {
    "name": "ipython",
    "version": 3
   },
   "file_extension": ".py",
   "mimetype": "text/x-python",
   "name": "python",
   "nbconvert_exporter": "python",
   "pygments_lexer": "ipython3",
   "version": "3.13.5"
  }
 },
 "nbformat": 4,
 "nbformat_minor": 5
}
